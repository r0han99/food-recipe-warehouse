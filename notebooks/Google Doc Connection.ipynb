{
 "cells": [
  {
   "cell_type": "code",
   "execution_count": 1,
   "id": "dc329a14",
   "metadata": {},
   "outputs": [],
   "source": [
    "## Google Doc Appending Test"
   ]
  },
  {
   "cell_type": "code",
   "execution_count": 2,
   "id": "dffc2923",
   "metadata": {},
   "outputs": [
    {
     "name": "stdout",
     "output_type": "stream",
     "text": [
      "Collecting gspread\n",
      "  Downloading gspread-6.1.2-py3-none-any.whl.metadata (11 kB)\n",
      "Requirement already satisfied: google-auth>=1.12.0 in /Users/rohan/miniconda3/lib/python3.11/site-packages (from gspread) (2.23.4)\n",
      "Requirement already satisfied: google-auth-oauthlib>=0.4.1 in /Users/rohan/miniconda3/lib/python3.11/site-packages (from gspread) (1.1.0)\n",
      "Requirement already satisfied: cachetools<6.0,>=2.0.0 in /Users/rohan/miniconda3/lib/python3.11/site-packages (from google-auth>=1.12.0->gspread) (5.3.1)\n",
      "Requirement already satisfied: pyasn1-modules>=0.2.1 in /Users/rohan/miniconda3/lib/python3.11/site-packages (from google-auth>=1.12.0->gspread) (0.3.0)\n",
      "Requirement already satisfied: rsa<5,>=3.1.4 in /Users/rohan/miniconda3/lib/python3.11/site-packages (from google-auth>=1.12.0->gspread) (4.9)\n",
      "Requirement already satisfied: requests-oauthlib>=0.7.0 in /Users/rohan/miniconda3/lib/python3.11/site-packages (from google-auth-oauthlib>=0.4.1->gspread) (1.3.1)\n",
      "Requirement already satisfied: pyasn1<0.6.0,>=0.4.6 in /Users/rohan/miniconda3/lib/python3.11/site-packages (from pyasn1-modules>=0.2.1->google-auth>=1.12.0->gspread) (0.5.0)\n",
      "Requirement already satisfied: oauthlib>=3.0.0 in /Users/rohan/miniconda3/lib/python3.11/site-packages (from requests-oauthlib>=0.7.0->google-auth-oauthlib>=0.4.1->gspread) (3.2.2)\n",
      "Requirement already satisfied: requests>=2.0.0 in /Users/rohan/miniconda3/lib/python3.11/site-packages (from requests-oauthlib>=0.7.0->google-auth-oauthlib>=0.4.1->gspread) (2.31.0)\n",
      "Requirement already satisfied: charset-normalizer<4,>=2 in /Users/rohan/miniconda3/lib/python3.11/site-packages (from requests>=2.0.0->requests-oauthlib>=0.7.0->google-auth-oauthlib>=0.4.1->gspread) (3.3.2)\n",
      "Requirement already satisfied: idna<4,>=2.5 in /Users/rohan/miniconda3/lib/python3.11/site-packages (from requests>=2.0.0->requests-oauthlib>=0.7.0->google-auth-oauthlib>=0.4.1->gspread) (3.4)\n",
      "Requirement already satisfied: urllib3<3,>=1.21.1 in /Users/rohan/miniconda3/lib/python3.11/site-packages (from requests>=2.0.0->requests-oauthlib>=0.7.0->google-auth-oauthlib>=0.4.1->gspread) (2.0.7)\n",
      "Requirement already satisfied: certifi>=2017.4.17 in /Users/rohan/miniconda3/lib/python3.11/site-packages (from requests>=2.0.0->requests-oauthlib>=0.7.0->google-auth-oauthlib>=0.4.1->gspread) (2023.7.22)\n",
      "Downloading gspread-6.1.2-py3-none-any.whl (57 kB)\n",
      "\u001b[2K   \u001b[90m━━━━━━━━━━━━━━━━━━━━━━━━━━━━━━━━━━━━━━━━\u001b[0m \u001b[32m57.5/57.5 kB\u001b[0m \u001b[31m988.8 kB/s\u001b[0m eta \u001b[36m0:00:00\u001b[0m\u001b[36m0:00:01\u001b[0m\n",
      "\u001b[?25hInstalling collected packages: gspread\n",
      "Successfully installed gspread-6.1.2\n"
     ]
    }
   ],
   "source": [
    "! pip install gspread"
   ]
  },
  {
   "cell_type": "code",
   "execution_count": 3,
   "id": "e6e66930",
   "metadata": {},
   "outputs": [
    {
     "name": "stdout",
     "output_type": "stream",
     "text": [
      "Requirement already satisfied: gspread in /Users/rohan/miniconda3/lib/python3.11/site-packages (6.1.2)\n",
      "Collecting oauth2client\n",
      "  Downloading oauth2client-4.1.3-py2.py3-none-any.whl.metadata (1.2 kB)\n",
      "Requirement already satisfied: google-auth>=1.12.0 in /Users/rohan/miniconda3/lib/python3.11/site-packages (from gspread) (2.23.4)\n",
      "Requirement already satisfied: google-auth-oauthlib>=0.4.1 in /Users/rohan/miniconda3/lib/python3.11/site-packages (from gspread) (1.1.0)\n",
      "Collecting httplib2>=0.9.1 (from oauth2client)\n",
      "  Downloading httplib2-0.22.0-py3-none-any.whl.metadata (2.6 kB)\n",
      "Requirement already satisfied: pyasn1>=0.1.7 in /Users/rohan/miniconda3/lib/python3.11/site-packages (from oauth2client) (0.5.0)\n",
      "Requirement already satisfied: pyasn1-modules>=0.0.5 in /Users/rohan/miniconda3/lib/python3.11/site-packages (from oauth2client) (0.3.0)\n",
      "Requirement already satisfied: rsa>=3.1.4 in /Users/rohan/miniconda3/lib/python3.11/site-packages (from oauth2client) (4.9)\n",
      "Requirement already satisfied: six>=1.6.1 in /Users/rohan/miniconda3/lib/python3.11/site-packages (from oauth2client) (1.16.0)\n",
      "Requirement already satisfied: cachetools<6.0,>=2.0.0 in /Users/rohan/miniconda3/lib/python3.11/site-packages (from google-auth>=1.12.0->gspread) (5.3.1)\n",
      "Requirement already satisfied: requests-oauthlib>=0.7.0 in /Users/rohan/miniconda3/lib/python3.11/site-packages (from google-auth-oauthlib>=0.4.1->gspread) (1.3.1)\n",
      "Requirement already satisfied: pyparsing!=3.0.0,!=3.0.1,!=3.0.2,!=3.0.3,<4,>=2.4.2 in /Users/rohan/miniconda3/lib/python3.11/site-packages (from httplib2>=0.9.1->oauth2client) (3.1.1)\n",
      "Requirement already satisfied: oauthlib>=3.0.0 in /Users/rohan/miniconda3/lib/python3.11/site-packages (from requests-oauthlib>=0.7.0->google-auth-oauthlib>=0.4.1->gspread) (3.2.2)\n",
      "Requirement already satisfied: requests>=2.0.0 in /Users/rohan/miniconda3/lib/python3.11/site-packages (from requests-oauthlib>=0.7.0->google-auth-oauthlib>=0.4.1->gspread) (2.31.0)\n",
      "Requirement already satisfied: charset-normalizer<4,>=2 in /Users/rohan/miniconda3/lib/python3.11/site-packages (from requests>=2.0.0->requests-oauthlib>=0.7.0->google-auth-oauthlib>=0.4.1->gspread) (3.3.2)\n",
      "Requirement already satisfied: idna<4,>=2.5 in /Users/rohan/miniconda3/lib/python3.11/site-packages (from requests>=2.0.0->requests-oauthlib>=0.7.0->google-auth-oauthlib>=0.4.1->gspread) (3.4)\n",
      "Requirement already satisfied: urllib3<3,>=1.21.1 in /Users/rohan/miniconda3/lib/python3.11/site-packages (from requests>=2.0.0->requests-oauthlib>=0.7.0->google-auth-oauthlib>=0.4.1->gspread) (2.0.7)\n",
      "Requirement already satisfied: certifi>=2017.4.17 in /Users/rohan/miniconda3/lib/python3.11/site-packages (from requests>=2.0.0->requests-oauthlib>=0.7.0->google-auth-oauthlib>=0.4.1->gspread) (2023.7.22)\n",
      "Downloading oauth2client-4.1.3-py2.py3-none-any.whl (98 kB)\n",
      "\u001b[2K   \u001b[90m━━━━━━━━━━━━━━━━━━━━━━━━━━━━━━━━━━━━━━━━\u001b[0m \u001b[32m98.2/98.2 kB\u001b[0m \u001b[31m2.0 MB/s\u001b[0m eta \u001b[36m0:00:00\u001b[0ma \u001b[36m0:00:01\u001b[0m\n",
      "\u001b[?25hDownloading httplib2-0.22.0-py3-none-any.whl (96 kB)\n",
      "\u001b[2K   \u001b[90m━━━━━━━━━━━━━━━━━━━━━━━━━━━━━━━━━━━━━━━━\u001b[0m \u001b[32m96.9/96.9 kB\u001b[0m \u001b[31m4.7 MB/s\u001b[0m eta \u001b[36m0:00:00\u001b[0m\n",
      "\u001b[?25hInstalling collected packages: httplib2, oauth2client\n",
      "Successfully installed httplib2-0.22.0 oauth2client-4.1.3\n"
     ]
    }
   ],
   "source": [
    "! pip install gspread oauth2client"
   ]
  },
  {
   "cell_type": "code",
   "execution_count": 4,
   "id": "0b962467",
   "metadata": {},
   "outputs": [
    {
     "name": "stdout",
     "output_type": "stream",
     "text": [
      "README.md                               food-recipe-warehouse-15f86e2d8d6b.json\r\n",
      "__init__.py                             \u001b[34mnotebooks\u001b[m\u001b[m\r\n",
      "app.py                                  requirements.txt\r\n",
      "\u001b[34massets\u001b[m\u001b[m                                  \u001b[34msrc\u001b[m\u001b[m\r\n",
      "\u001b[34mdata\u001b[m\u001b[m\r\n"
     ]
    }
   ],
   "source": [
    "! ls ../food-recipe-warehouse-15f86e2d8d6b.json"
   ]
  },
  {
   "cell_type": "code",
   "execution_count": 10,
   "id": "e0ea8c84",
   "metadata": {},
   "outputs": [
    {
     "data": {
      "text/html": [
       "<div>\n",
       "<style scoped>\n",
       "    .dataframe tbody tr th:only-of-type {\n",
       "        vertical-align: middle;\n",
       "    }\n",
       "\n",
       "    .dataframe tbody tr th {\n",
       "        vertical-align: top;\n",
       "    }\n",
       "\n",
       "    .dataframe thead th {\n",
       "        text-align: right;\n",
       "    }\n",
       "</style>\n",
       "<table border=\"1\" class=\"dataframe\">\n",
       "  <thead>\n",
       "    <tr style=\"text-align: right;\">\n",
       "      <th></th>\n",
       "      <th>NAME</th>\n",
       "      <th>LINK</th>\n",
       "      <th>FROM</th>\n",
       "      <th>CUISINE</th>\n",
       "    </tr>\n",
       "  </thead>\n",
       "  <tbody>\n",
       "    <tr>\n",
       "      <th>0</th>\n",
       "      <td>Pizza Sandwiches</td>\n",
       "      <td>https://www.instagram.com/reel/C3X0pTfIJev/?ig...</td>\n",
       "      <td>Instagram</td>\n",
       "      <td>None</td>\n",
       "    </tr>\n",
       "    <tr>\n",
       "      <th>1</th>\n",
       "      <td>Garlic Mashroom</td>\n",
       "      <td>https://www.instagram.com/reel/C1yWdmcInGo/?ig...</td>\n",
       "      <td>Instagram</td>\n",
       "      <td>None</td>\n",
       "    </tr>\n",
       "    <tr>\n",
       "      <th>2</th>\n",
       "      <td>Chicken Manchurian</td>\n",
       "      <td>https://www.instagram.com/p/C2rQhJmLBxq/?igsh=...</td>\n",
       "      <td>Instagram</td>\n",
       "      <td>None</td>\n",
       "    </tr>\n",
       "    <tr>\n",
       "      <th>3</th>\n",
       "      <td>Soya Paneer Kurma</td>\n",
       "      <td>https://www.instagram.com/reel/Cz5-IjLxRgq/?ig...</td>\n",
       "      <td>Instagram</td>\n",
       "      <td>None</td>\n",
       "    </tr>\n",
       "    <tr>\n",
       "      <th>4</th>\n",
       "      <td>Egg Sandwich</td>\n",
       "      <td>https://www.instagram.com/reel/C2tvf6IvGFd/?ig...</td>\n",
       "      <td>Instagram</td>\n",
       "      <td>None</td>\n",
       "    </tr>\n",
       "    <tr>\n",
       "      <th>...</th>\n",
       "      <td>...</td>\n",
       "      <td>...</td>\n",
       "      <td>...</td>\n",
       "      <td>...</td>\n",
       "    </tr>\n",
       "    <tr>\n",
       "      <th>187</th>\n",
       "      <td>Walnut Halwa</td>\n",
       "      <td>https://www.instagram.com/reel/C1E6jI7y_Kv/?ig...</td>\n",
       "      <td>Instagram</td>\n",
       "      <td>None</td>\n",
       "    </tr>\n",
       "    <tr>\n",
       "      <th>188</th>\n",
       "      <td>Onion Pakodi</td>\n",
       "      <td>https://www.instagram.com/reel/C1FekfrybDG/?ig...</td>\n",
       "      <td>Instagram</td>\n",
       "      <td>None</td>\n",
       "    </tr>\n",
       "    <tr>\n",
       "      <th>189</th>\n",
       "      <td>Hyderabad’S Style Chicken</td>\n",
       "      <td>https://www.instagram.com/reel/C0oZjtCpYc0/?ig...</td>\n",
       "      <td>Instagram</td>\n",
       "      <td>None</td>\n",
       "    </tr>\n",
       "    <tr>\n",
       "      <th>190</th>\n",
       "      <td>Milk Cake</td>\n",
       "      <td>https://www.instagram.com/reel/C0vk0SdMDYe/?ig...</td>\n",
       "      <td>Instagram</td>\n",
       "      <td>None</td>\n",
       "    </tr>\n",
       "    <tr>\n",
       "      <th>191</th>\n",
       "      <td>Mandi</td>\n",
       "      <td>https://github.com/r0han99/food-recipe-warehouse</td>\n",
       "      <td>Facebook</td>\n",
       "      <td>Indian Non-Veg Snack</td>\n",
       "    </tr>\n",
       "  </tbody>\n",
       "</table>\n",
       "<p>192 rows × 4 columns</p>\n",
       "</div>"
      ],
      "text/plain": [
       "                          NAME  \\\n",
       "0             Pizza Sandwiches   \n",
       "1              Garlic Mashroom   \n",
       "2           Chicken Manchurian   \n",
       "3            Soya Paneer Kurma   \n",
       "4                 Egg Sandwich   \n",
       "..                         ...   \n",
       "187               Walnut Halwa   \n",
       "188               Onion Pakodi   \n",
       "189  Hyderabad’S Style Chicken   \n",
       "190                  Milk Cake   \n",
       "191                      Mandi   \n",
       "\n",
       "                                                  LINK       FROM  \\\n",
       "0    https://www.instagram.com/reel/C3X0pTfIJev/?ig...  Instagram   \n",
       "1    https://www.instagram.com/reel/C1yWdmcInGo/?ig...  Instagram   \n",
       "2    https://www.instagram.com/p/C2rQhJmLBxq/?igsh=...  Instagram   \n",
       "3    https://www.instagram.com/reel/Cz5-IjLxRgq/?ig...  Instagram   \n",
       "4    https://www.instagram.com/reel/C2tvf6IvGFd/?ig...  Instagram   \n",
       "..                                                 ...        ...   \n",
       "187  https://www.instagram.com/reel/C1E6jI7y_Kv/?ig...  Instagram   \n",
       "188  https://www.instagram.com/reel/C1FekfrybDG/?ig...  Instagram   \n",
       "189  https://www.instagram.com/reel/C0oZjtCpYc0/?ig...  Instagram   \n",
       "190  https://www.instagram.com/reel/C0vk0SdMDYe/?ig...  Instagram   \n",
       "191   https://github.com/r0han99/food-recipe-warehouse   Facebook   \n",
       "\n",
       "                  CUISINE  \n",
       "0                    None  \n",
       "1                    None  \n",
       "2                    None  \n",
       "3                    None  \n",
       "4                    None  \n",
       "..                    ...  \n",
       "187                  None  \n",
       "188                  None  \n",
       "189                  None  \n",
       "190                  None  \n",
       "191  Indian Non-Veg Snack  \n",
       "\n",
       "[192 rows x 4 columns]"
      ]
     },
     "execution_count": 10,
     "metadata": {},
     "output_type": "execute_result"
    }
   ],
   "source": [
    "import gspread\n",
    "from oauth2client.service_account import ServiceAccountCredentials\n",
    "import pandas as pd \n",
    "# Define the scope and authenticate with the service account\n",
    "scope = [\"https://spreadsheets.google.com/feeds\", \"https://www.googleapis.com/auth/drive\"]\n",
    "creds = ServiceAccountCredentials.from_json_keyfile_name('../food-recipe-warehouse-15f86e2d8d6b.json', scope)\n",
    "client = gspread.authorize(creds)\n",
    "\n",
    "# Open the Google Sheet by name\n",
    "spreadsheet = client.open(\"recipe_data\")\n",
    "\n",
    "# Select the first sheet\n",
    "sheet = spreadsheet.sheet1\n",
    "\n",
    "# data \n",
    "data = sheet.get_all_values()\n",
    "\n",
    "# Create a DataFrame from the data\n",
    "df = pd.DataFrame(data[1:], columns=data[0])  # Skip header row\n",
    "\n",
    "# Print the DataFrame\n",
    "df"
   ]
  },
  {
   "cell_type": "code",
   "execution_count": 19,
   "id": "a42b09b7",
   "metadata": {},
   "outputs": [
    {
     "data": {
      "text/plain": [
       "[['Ice Cream',\n",
       "  'https://www.loveandlemons.com/homemade-ice-cream-recipe/',\n",
       "  'Web',\n",
       "  'Dessert'],\n",
       " ['Ice Cream',\n",
       "  'https://www.loveandlemons.com/homemade-ice-cream-recipe/',\n",
       "  'Web',\n",
       "  'Dessert']]"
      ]
     },
     "execution_count": 19,
     "metadata": {},
     "output_type": "execute_result"
    }
   ],
   "source": [
    "new_list = [[\"Ice Cream\",\"https://www.loveandlemons.com/homemade-ice-cream-recipe/\", \"Web\", \"Dessert\"],\n",
    "    [\"Ice Cream\",\"https://www.loveandlemons.com/homemade-ice-cream-recipe/\", \"Web\", \"Dessert\"]\n",
    "]\n",
    "\n",
    "new_list"
   ]
  },
  {
   "cell_type": "code",
   "execution_count": 20,
   "id": "f972f972",
   "metadata": {},
   "outputs": [
    {
     "data": {
      "text/plain": [
       "{'spreadsheetId': '1TUkP_tcYUxxTyh2t4L4VnjxS2ItRSL-yIAxxlkvE6GA',\n",
       " 'tableRange': 'recipe_data.csv!A1:D192',\n",
       " 'updates': {'spreadsheetId': '1TUkP_tcYUxxTyh2t4L4VnjxS2ItRSL-yIAxxlkvE6GA',\n",
       "  'updatedRange': 'recipe_data.csv!A193:D194',\n",
       "  'updatedRows': 2,\n",
       "  'updatedColumns': 4,\n",
       "  'updatedCells': 8}}"
      ]
     },
     "execution_count": 20,
     "metadata": {},
     "output_type": "execute_result"
    }
   ],
   "source": [
    "# Append the new list as a new row\n",
    "sheet.append_rows(new_list)"
   ]
  },
  {
   "cell_type": "code",
   "execution_count": 24,
   "id": "bd64e3cb",
   "metadata": {},
   "outputs": [
    {
     "data": {
      "text/plain": [
       "[['Ice Cream', 'https://jenis.com/', 'Other', 'Dessert']]"
      ]
     },
     "execution_count": 24,
     "metadata": {},
     "output_type": "execute_result"
    }
   ],
   "source": [
    "rows = []\n",
    "x = [{'NAME': 'Ice Cream', 'LINK': 'https://jenis.com/', 'FROM': 'Other', 'CUISINE': 'Dessert'}]\n",
    "for dicts in x:\n",
    "    rows.append(list(dicts.values()))\n",
    "rows"
   ]
  },
  {
   "cell_type": "code",
   "execution_count": null,
   "id": "56b7a0d8",
   "metadata": {},
   "outputs": [],
   "source": []
  }
 ],
 "metadata": {
  "kernelspec": {
   "display_name": "Python 3 (ipykernel)",
   "language": "python",
   "name": "python3"
  },
  "language_info": {
   "codemirror_mode": {
    "name": "ipython",
    "version": 3
   },
   "file_extension": ".py",
   "mimetype": "text/x-python",
   "name": "python",
   "nbconvert_exporter": "python",
   "pygments_lexer": "ipython3",
   "version": "3.11.4"
  }
 },
 "nbformat": 4,
 "nbformat_minor": 5
}
